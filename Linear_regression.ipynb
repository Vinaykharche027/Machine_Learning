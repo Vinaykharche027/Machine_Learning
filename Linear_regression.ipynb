{
 "cells": [
  {
   "cell_type": "code",
   "execution_count": 1,
   "metadata": {},
   "outputs": [],
   "source": [
    "import numpy as np\n",
    "import pandas as pd\n",
    "import matplotlib.pyplot as plt\n",
    "\n",
    "train = pd.read_csv(r\"Linear_R_train.csv\")\n",
    "test = pd.read_csv(r\"Linear_R_test.csv\")"
   ]
  },
  {
   "cell_type": "code",
   "execution_count": 2,
   "metadata": {},
   "outputs": [
    {
     "name": "stdout",
     "output_type": "stream",
     "text": [
      "-----Print head------\n",
      "-----train data------\n",
      "head       x          y\n",
      "0  24.0  21.549452\n",
      "1  50.0  47.464463\n",
      "2  15.0  17.218656\n",
      "3  38.0  36.586398\n",
      "4  87.0  87.288984\n",
      "tail         x          y\n",
      "695  58.0  58.595006\n",
      "696  93.0  94.625094\n",
      "697  82.0  88.603770\n",
      "698  66.0  63.648685\n",
      "699  97.0  94.975266\n",
      "------Test Data------\n",
      "head     x          y\n",
      "0  77  79.775152\n",
      "1  21  23.177279\n",
      "2  22  25.609262\n",
      "3  20  17.857388\n",
      "4  36  41.849864\n",
      "tail     x          y\n",
      "0  77  79.775152\n",
      "1  21  23.177279\n",
      "2  22  25.609262\n",
      "3  20  17.857388\n",
      "4  36  41.849864\n"
     ]
    }
   ],
   "source": [
    "print(\"-----Print head------\")\n",
    "print(\"-----train data------\")\n",
    "print(\"head\",train.head())\n",
    "print(\"tail\",train.tail())\n",
    "print(\"------Test Data------\")\n",
    "print(\"head\",test.head())\n",
    "print(\"tail\",test.head())"
   ]
  },
  {
   "cell_type": "code",
   "execution_count": 3,
   "metadata": {},
   "outputs": [
    {
     "name": "stdout",
     "output_type": "stream",
     "text": [
      "train Data\n",
      "        x          y\n",
      "50  85.0  86.188223\n",
      "51  44.0  42.632277\n",
      "52   5.0   4.098177\n",
      "53  59.0  61.222986\n",
      "54  14.0  17.706776\n",
      "55   9.0  11.853126\n",
      "56  75.0  80.230517\n",
      "57  69.0  62.649317\n",
      "58  10.0   9.616860\n",
      "59  17.0  20.027977\n",
      "60  58.0  61.751074\n",
      "61  74.0  71.610103\n",
      "62  21.0  23.771546\n",
      "63  51.0  51.901420\n",
      "64  19.0  22.660737\n",
      "65  50.0  50.028979\n",
      "66  24.0  26.687944\n",
      "67   0.0   0.376912\n",
      "68  12.0   6.806419\n",
      "69  75.0  77.339860\n",
      "70  21.0  28.902602\n",
      "71  64.0  66.734661\n",
      "72   5.0   0.707511\n",
      "73  58.0  57.077484\n",
      "74  32.0  28.414532\n",
      "75  41.0  44.462721\n",
      "76   7.0   7.459606\n",
      "77   4.0   2.316708\n",
      "78   5.0   4.928546\n",
      "79  49.0  52.503361\n",
      "80  90.0  91.191096\n",
      "81   3.0   8.489164\n",
      "82  11.0   6.963372\n",
      "83  32.0  31.979900\n",
      "84  83.0  81.428121\n",
      "85  25.0  22.623654\n",
      "86  83.0  78.525051\n",
      "87  26.0  25.807141\n",
      "88  76.0  73.510818\n",
      "89  95.0  91.775467\n",
      "90  53.0  49.218635\n",
      "91  77.0  80.504454\n",
      "92  42.0  50.056361\n",
      "93  25.0  25.462925\n",
      "94  54.0  55.321643\n",
      "95  55.0  59.124489\n",
      "96   0.0   1.100687\n",
      "97  73.0  71.980208\n",
      "98  35.0  30.136664\n",
      "99  86.0  83.884274\n",
      "\n",
      "test Data\n",
      "       x           y\n",
      "50   94   95.285039\n",
      "51   88   87.847499\n",
      "52   52   54.081706\n",
      "53   31   31.930635\n",
      "54   59   59.612471\n",
      "55    0   -1.040114\n",
      "56   39   47.493748\n",
      "57   64   62.600898\n",
      "58   69   70.914643\n",
      "59   57   56.148341\n",
      "60   13   14.055729\n",
      "61   72   68.113671\n",
      "62   76   75.597013\n",
      "63   61   59.225745\n",
      "64   82   85.455042\n",
      "65   18   17.761971\n",
      "66   41   38.688887\n",
      "67   50   50.963436\n",
      "68   55   51.835039\n",
      "69   13   17.076111\n",
      "70   46   46.561418\n",
      "71   13   10.347545\n",
      "72   79   77.910330\n",
      "73   53   50.170086\n",
      "74   15   13.256906\n",
      "75   28   31.322749\n",
      "76   81   73.930876\n",
      "77   69   74.451144\n",
      "78   52   52.019323\n",
      "79   84   83.688205\n",
      "80   68   70.369875\n",
      "81   27   23.444792\n",
      "82   56   49.830518\n",
      "83   48   49.882266\n",
      "84   40   41.045256\n",
      "85   39   33.378344\n",
      "86   82   81.297501\n",
      "87  100  105.591837\n",
      "88   59   56.824570\n",
      "89   43   48.672526\n",
      "90   67   67.021506\n",
      "91   38   38.430764\n",
      "92   63   58.614669\n",
      "93   91   89.123775\n",
      "94   60   60.910543\n",
      "95   14   13.839599\n",
      "96   21   16.890852\n",
      "97   87   84.066768\n",
      "98   73   70.349698\n",
      "99   32   33.384741\n"
     ]
    }
   ],
   "source": [
    "# cheacking the Data betn 50 to 100 numbers\n",
    "print(\"train Data\\n\", train.iloc[50:100])\n",
    "print('\\ntest Data\\n', test.iloc[50:100])"
   ]
  },
  {
   "cell_type": "code",
   "execution_count": 4,
   "metadata": {},
   "outputs": [
    {
     "name": "stdout",
     "output_type": "stream",
     "text": [
      "train data \n",
      " x    0\n",
      "y    1\n",
      "dtype: int64\n",
      "\n",
      "test data\n",
      " x    0\n",
      "y    0\n",
      "dtype: int64\n"
     ]
    }
   ],
   "source": [
    "#check Null Values\n",
    "print('train data \\n',train.isnull().sum())\n",
    "print('\\ntest data\\n',test.isnull().sum())"
   ]
  },
  {
   "cell_type": "code",
   "execution_count": 5,
   "metadata": {},
   "outputs": [],
   "source": [
    "train.dropna(inplace=True)"
   ]
  },
  {
   "cell_type": "code",
   "execution_count": 6,
   "metadata": {},
   "outputs": [
    {
     "name": "stdout",
     "output_type": "stream",
     "text": [
      "------check datashape------\n",
      "----train------\n",
      " (699, 2)\n",
      "----test------\n",
      " (300, 2)\n"
     ]
    }
   ],
   "source": [
    "#check Data shape\n",
    "print('------check datashape------')\n",
    "print('----train------\\n', train.shape)\n",
    "print('----test------\\n',test.shape)"
   ]
  },
  {
   "cell_type": "code",
   "execution_count": 7,
   "metadata": {},
   "outputs": [],
   "source": [
    "#Machine learning\n",
    "x_train = train.iloc[:,:-1].values\n",
    "y_train = train.iloc[:,1].values\n",
    "x_test = test.iloc[:,:-1].values\n",
    "y_test = test.iloc[:,1].values"
   ]
  },
  {
   "cell_type": "code",
   "execution_count": 8,
   "metadata": {},
   "outputs": [
    {
     "data": {
      "text/html": [
       "<style>#sk-container-id-1 {color: black;background-color: white;}#sk-container-id-1 pre{padding: 0;}#sk-container-id-1 div.sk-toggleable {background-color: white;}#sk-container-id-1 label.sk-toggleable__label {cursor: pointer;display: block;width: 100%;margin-bottom: 0;padding: 0.3em;box-sizing: border-box;text-align: center;}#sk-container-id-1 label.sk-toggleable__label-arrow:before {content: \"▸\";float: left;margin-right: 0.25em;color: #696969;}#sk-container-id-1 label.sk-toggleable__label-arrow:hover:before {color: black;}#sk-container-id-1 div.sk-estimator:hover label.sk-toggleable__label-arrow:before {color: black;}#sk-container-id-1 div.sk-toggleable__content {max-height: 0;max-width: 0;overflow: hidden;text-align: left;background-color: #f0f8ff;}#sk-container-id-1 div.sk-toggleable__content pre {margin: 0.2em;color: black;border-radius: 0.25em;background-color: #f0f8ff;}#sk-container-id-1 input.sk-toggleable__control:checked~div.sk-toggleable__content {max-height: 200px;max-width: 100%;overflow: auto;}#sk-container-id-1 input.sk-toggleable__control:checked~label.sk-toggleable__label-arrow:before {content: \"▾\";}#sk-container-id-1 div.sk-estimator input.sk-toggleable__control:checked~label.sk-toggleable__label {background-color: #d4ebff;}#sk-container-id-1 div.sk-label input.sk-toggleable__control:checked~label.sk-toggleable__label {background-color: #d4ebff;}#sk-container-id-1 input.sk-hidden--visually {border: 0;clip: rect(1px 1px 1px 1px);clip: rect(1px, 1px, 1px, 1px);height: 1px;margin: -1px;overflow: hidden;padding: 0;position: absolute;width: 1px;}#sk-container-id-1 div.sk-estimator {font-family: monospace;background-color: #f0f8ff;border: 1px dotted black;border-radius: 0.25em;box-sizing: border-box;margin-bottom: 0.5em;}#sk-container-id-1 div.sk-estimator:hover {background-color: #d4ebff;}#sk-container-id-1 div.sk-parallel-item::after {content: \"\";width: 100%;border-bottom: 1px solid gray;flex-grow: 1;}#sk-container-id-1 div.sk-label:hover label.sk-toggleable__label {background-color: #d4ebff;}#sk-container-id-1 div.sk-serial::before {content: \"\";position: absolute;border-left: 1px solid gray;box-sizing: border-box;top: 0;bottom: 0;left: 50%;z-index: 0;}#sk-container-id-1 div.sk-serial {display: flex;flex-direction: column;align-items: center;background-color: white;padding-right: 0.2em;padding-left: 0.2em;position: relative;}#sk-container-id-1 div.sk-item {position: relative;z-index: 1;}#sk-container-id-1 div.sk-parallel {display: flex;align-items: stretch;justify-content: center;background-color: white;position: relative;}#sk-container-id-1 div.sk-item::before, #sk-container-id-1 div.sk-parallel-item::before {content: \"\";position: absolute;border-left: 1px solid gray;box-sizing: border-box;top: 0;bottom: 0;left: 50%;z-index: -1;}#sk-container-id-1 div.sk-parallel-item {display: flex;flex-direction: column;z-index: 1;position: relative;background-color: white;}#sk-container-id-1 div.sk-parallel-item:first-child::after {align-self: flex-end;width: 50%;}#sk-container-id-1 div.sk-parallel-item:last-child::after {align-self: flex-start;width: 50%;}#sk-container-id-1 div.sk-parallel-item:only-child::after {width: 0;}#sk-container-id-1 div.sk-dashed-wrapped {border: 1px dashed gray;margin: 0 0.4em 0.5em 0.4em;box-sizing: border-box;padding-bottom: 0.4em;background-color: white;}#sk-container-id-1 div.sk-label label {font-family: monospace;font-weight: bold;display: inline-block;line-height: 1.2em;}#sk-container-id-1 div.sk-label-container {text-align: center;}#sk-container-id-1 div.sk-container {/* jupyter's `normalize.less` sets `[hidden] { display: none; }` but bootstrap.min.css set `[hidden] { display: none !important; }` so we also need the `!important` here to be able to override the default hidden behavior on the sphinx rendered scikit-learn.org. See: https://github.com/scikit-learn/scikit-learn/issues/21755 */display: inline-block !important;position: relative;}#sk-container-id-1 div.sk-text-repr-fallback {display: none;}</style><div id=\"sk-container-id-1\" class=\"sk-top-container\"><div class=\"sk-text-repr-fallback\"><pre>LinearRegression()</pre><b>In a Jupyter environment, please rerun this cell to show the HTML representation or trust the notebook. <br />On GitHub, the HTML representation is unable to render, please try loading this page with nbviewer.org.</b></div><div class=\"sk-container\" hidden><div class=\"sk-item\"><div class=\"sk-estimator sk-toggleable\"><input class=\"sk-toggleable__control sk-hidden--visually\" id=\"sk-estimator-id-1\" type=\"checkbox\" checked><label for=\"sk-estimator-id-1\" class=\"sk-toggleable__label sk-toggleable__label-arrow\">LinearRegression</label><div class=\"sk-toggleable__content\"><pre>LinearRegression()</pre></div></div></div></div></div>"
      ],
      "text/plain": [
       "LinearRegression()"
      ]
     },
     "execution_count": 8,
     "metadata": {},
     "output_type": "execute_result"
    }
   ],
   "source": [
    "from sklearn.linear_model import LinearRegression\n",
    "regressor = LinearRegression()\n",
    "regressor.fit(x_train,y_train)"
   ]
  },
  {
   "cell_type": "code",
   "execution_count": 9,
   "metadata": {},
   "outputs": [],
   "source": [
    "y_pred = regressor.predict(x_test)"
   ]
  },
  {
   "cell_type": "code",
   "execution_count": 10,
   "metadata": {},
   "outputs": [],
   "source": [
    "# comparing the values with the y_test\n",
    "# print(\"ypred = \", y_pred)\n",
    "# print('\\ny_test = ', y_test)"
   ]
  },
  {
   "cell_type": "code",
   "execution_count": 11,
   "metadata": {},
   "outputs": [
    {
     "data": {
      "image/png": "[encoded data removed]",
      "text/plain": [
       "<Figure size 640x480 with 1 Axes>"
      ]
     },
     "metadata": {},
     "output_type": "display_data"
    }
   ],
   "source": [
    "#ploting a graph\n",
    "plt.scatter(x_train,y_train, color='yellow')\n",
    "plt.plot(x_train,regressor.predict(x_train), color='red')\n",
    "plt.title('Linear Regression(training set)')\n",
    "plt.xlabel('X')\n",
    "plt.ylabel('Y')\n",
    "plt.show()"
   ]
  },
  {
   "cell_type": "code",
   "execution_count": 12,
   "metadata": {},
   "outputs": [
    {
     "data": {
      "text/plain": [
       "0.9888014444327563"
      ]
     },
     "execution_count": 12,
     "metadata": {},
     "output_type": "execute_result"
    }
   ],
   "source": [
    "# to test accuracy of Model\n",
    "regressor.score(x_test,y_test)"
   ]
  },
  {
   "cell_type": "code",
   "execution_count": 13,
   "metadata": {},
   "outputs": [
    {
     "data": {
      "text/plain": [
       "array([1.00065638])"
      ]
     },
     "execution_count": 13,
     "metadata": {},
     "output_type": "execute_result"
    }
   ],
   "source": [
    "# To check B0 value\n",
    "regressor.coef_"
   ]
  },
  {
   "cell_type": "code",
   "execution_count": 14,
   "metadata": {},
   "outputs": [
    {
     "data": {
      "text/plain": [
       "-0.10726546430095141"
      ]
     },
     "execution_count": 14,
     "metadata": {},
     "output_type": "execute_result"
    }
   ],
   "source": [
    "# check constant Value\n",
    "regressor.intercept_\n",
    "\n",
    "# formula for prediction\n",
    "# y = B0 + B1X\n",
    "# O\\p = B0 + B1(i/p)\n",
    "#      coef  slope"
   ]
  },
  {
   "cell_type": "code",
   "execution_count": 15,
   "metadata": {},
   "outputs": [
    {
     "data": {
      "text/plain": [
       "array([69.93868127])"
      ]
     },
     "execution_count": 15,
     "metadata": {},
     "output_type": "execute_result"
    }
   ],
   "source": [
    "#for future prediction using model\n",
    "regressor.predict(np.array([[70]]))"
   ]
  }
 ],
 "metadata": {
  "kernelspec": {
   "display_name": "Python 3",
   "language": "python",
   "name": "python3"
  },
  "language_info": {
   "codemirror_mode": {
    "name": "ipython",
    "version": 3
   },
   "file_extension": ".py",
   "mimetype": "text/x-python",
   "name": "python",
   "nbconvert_exporter": "python",
   "pygments_lexer": "ipython3",
   "version": "3.10.10"
  },
  "orig_nbformat": 4
 },
 "nbformat": 4,
 "nbformat_minor": 2
}
